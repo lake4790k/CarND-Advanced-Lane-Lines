{
 "cells": [
  {
   "cell_type": "code",
   "execution_count": null,
   "metadata": {
    "collapsed": false
   },
   "outputs": [],
   "source": [
    "%load_ext autoreload\n",
    "%autoreload 2\n",
    "%matplotlib inline\n",
    "\n",
    "from moviepy.editor import VideoFileClip\n",
    "import matplotlib.pyplot as plt\n",
    "import matplotlib.image as mpimg\n",
    "import logging\n",
    "logging.basicConfig(format='%(asctime)s %(levelname)s %(message)s', datefmt='%H:%M:%S',\n",
    "                    level=logging.DEBUG)\n",
    "\n",
    "from Main import *"
   ]
  },
  {
   "cell_type": "code",
   "execution_count": null,
   "metadata": {
    "collapsed": false
   },
   "outputs": [],
   "source": [
    "data = Data()\n",
    "cal = Calibration(data)\n",
    "thr = BinaryThreshold(data)\n",
    "per = PerspectiveTransform(data)\n",
    "nextLanes = NextFindLanes(data)\n",
    "lanes = FindLanes(data)\n",
    "smooth = ExponentialSmoothing(data, decay=.85)\n",
    "curve = Curvature(data)\n",
    "off = LaneOffset(data)\n",
    "decorate = DecorateWithData(data)"
   ]
  },
  {
   "cell_type": "code",
   "execution_count": null,
   "metadata": {
    "collapsed": false
   },
   "outputs": [],
   "source": [
    "for f in glob.glob('./camera_cal/*.jpg'):\n",
    "    img = cv2.imread(f)\n",
    "    cal.show(img)\n",
    "    break"
   ]
  },
  {
   "cell_type": "code",
   "execution_count": null,
   "metadata": {
    "collapsed": false
   },
   "outputs": [],
   "source": [
    "for f in glob.glob('test_images/*.jpg'):\n",
    "    img = cv2.imread(f)\n",
    "    thr.show(img)\n",
    "    break"
   ]
  },
  {
   "cell_type": "code",
   "execution_count": null,
   "metadata": {
    "collapsed": false
   },
   "outputs": [],
   "source": [
    "for f in glob.glob('test_images/*.jpg'):\n",
    "    img = cv2.imread(f)\n",
    "    per.show(img)\n",
    "    break"
   ]
  },
  {
   "cell_type": "code",
   "execution_count": null,
   "metadata": {
    "collapsed": false
   },
   "outputs": [],
   "source": [
    "for f in glob.glob('test_images/*.jpg'):\n",
    "    img = cv2.imread(f)\n",
    "    img = thr.process(img)\n",
    "    per.show(img)\n",
    "    break"
   ]
  },
  {
   "cell_type": "code",
   "execution_count": null,
   "metadata": {
    "collapsed": false
   },
   "outputs": [],
   "source": [
    "for f in glob.glob('test_images/*.jpg'):\n",
    "    data.rawImg = cv2.imread(f)\n",
    "    data.undistImg = cal.process(data.rawImg)\n",
    "    #data.binaryImg = thr.show(data.undistImg)\n",
    "    data.binaryImg = thr.process(data.undistImg)\n",
    "    per.show(data.undistImg)\n",
    "    data.warpedImg = per.process(data.binaryImg)\n",
    "    lanes.process(data.warpedImg)\n",
    "    nextLanes.process(data.warpedImg)\n",
    "    smooth.process(data.warpedImg)\n",
    "    curve.process(data.warpedImg)\n",
    "    off.process(data.warpedImg)\n",
    "    decorate.show(data.undistImg)\n",
    "    break"
   ]
  },
  {
   "cell_type": "code",
   "execution_count": null,
   "metadata": {
    "collapsed": false
   },
   "outputs": [],
   "source": [
    "def processor(img):\n",
    "    data.rawImg = img\n",
    "    data.undistImg = cal.process(data.rawImg)\n",
    "    data.binaryImg = thr.process(data.undistImg)\n",
    "    data.warpedImg = per.process(data.binaryImg)\n",
    "    if data.curverad is None:\n",
    "        lanes.process(data.warpedImg)\n",
    "    nextLanes.process(data.warpedImg)\n",
    "    smooth.process(data.warpedImg)\n",
    "    curve.process(data.warpedImg)\n",
    "    off.process(data.warpedImg)\n",
    "    return decorate.process(data.undistImg)\n",
    "\n",
    "#file = 'challenge_video.mp4'\n",
    "#file = 'harder_challenge_video.mp4'\n",
    "file = 'project_video.mp4'\n",
    "clip = VideoFileClip(file)\n",
    "#clip = clip.subclip(0,5)\n",
    "processed = clip.fl_image(processor)\n",
    "processed.write_videofile(file+'.processed.mp4', audio=False)"
   ]
  },
  {
   "cell_type": "code",
   "execution_count": null,
   "metadata": {
    "collapsed": true
   },
   "outputs": [],
   "source": []
  }
 ],
 "metadata": {
  "kernelspec": {
   "display_name": "Python 3",
   "language": "python",
   "name": "python3"
  },
  "language_info": {
   "codemirror_mode": {
    "name": "ipython",
    "version": 3
   },
   "file_extension": ".py",
   "mimetype": "text/x-python",
   "name": "python",
   "nbconvert_exporter": "python",
   "pygments_lexer": "ipython3",
   "version": "3.5.2"
  },
  "widgets": {
   "state": {},
   "version": "1.1.2"
  }
 },
 "nbformat": 4,
 "nbformat_minor": 2
}
